{
  "nbformat": 4,
  "nbformat_minor": 0,
  "metadata": {
    "colab": {
      "name": "notebook.ipynb",
      "provenance": []
    },
    "kernelspec": {
      "name": "python3",
      "display_name": "Python 3"
    },
    "language_info": {
      "name": "python"
    }
  },
  "cells": [
    {
      "cell_type": "code",
      "execution_count": null,
      "metadata": {
        "id": "wnZJVptcmW9i"
      },
      "outputs": [],
      "source": [
        "import main as utilities"
      ]
    },
    {
      "cell_type": "markdown",
      "source": [
        "**Load Data**"
      ],
      "metadata": {
        "id": "J4ZXrqGUmcHU"
      }
    },
    {
      "cell_type": "code",
      "source": [
        "dataframe = utilities.get_dataframe('data.json')"
      ],
      "metadata": {
        "id": "TgnmYqdTmdj4"
      },
      "execution_count": null,
      "outputs": []
    },
    {
      "cell_type": "markdown",
      "source": [
        "**Top 10 Retweets**"
      ],
      "metadata": {
        "id": "egYWU3-XmkAH"
      }
    },
    {
      "cell_type": "code",
      "source": [
        "utilities.get_top_10_retweets(dataframe)"
      ],
      "metadata": {
        "id": "S3RUMEPvmsvw"
      },
      "execution_count": null,
      "outputs": []
    },
    {
      "cell_type": "markdown",
      "source": [
        "**Top 10 Active Users**"
      ],
      "metadata": {
        "id": "PxZvPAWrmwCx"
      }
    },
    {
      "cell_type": "code",
      "source": [
        "utilities.get_top_10_active_users(dataframe)"
      ],
      "metadata": {
        "id": "oAkjxin7m8aw"
      },
      "execution_count": null,
      "outputs": []
    },
    {
      "cell_type": "markdown",
      "source": [
        "**Top 10 Dates**"
      ],
      "metadata": {
        "id": "Qs7vZWwanA2m"
      }
    },
    {
      "cell_type": "code",
      "source": [
        "utilities.get_top_10_dates(dataframe)"
      ],
      "metadata": {
        "id": "fRMrsYgTnFo0"
      },
      "execution_count": null,
      "outputs": []
    },
    {
      "cell_type": "markdown",
      "source": [
        "**Top 10 Hashtags**"
      ],
      "metadata": {
        "id": "hPYC4RyDnSei"
      }
    },
    {
      "cell_type": "code",
      "source": [
        "utilities.get_top_10_hashtags(dataframe)"
      ],
      "metadata": {
        "id": "-RTJLOocnK21"
      },
      "execution_count": null,
      "outputs": []
    }
  ]
}